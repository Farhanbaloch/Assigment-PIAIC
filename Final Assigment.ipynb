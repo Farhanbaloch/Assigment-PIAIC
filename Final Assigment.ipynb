{
 "cells": [
  {
   "cell_type": "markdown",
   "metadata": {},
   "source": [
    "# AREA OF CIRCLE"
   ]
  },
  {
   "cell_type": "code",
   "execution_count": 19,
   "metadata": {},
   "outputs": [
    {
     "name": "stdout",
     "output_type": "stream",
     "text": [
      "Enter the radius of the circle:0.5\n",
      "Area of the circle with radius 0.5 is : 0.79\n"
     ]
    }
   ],
   "source": [
    "Pi=3.1415926535897931\n",
    "r = float(input(\"Enter the radius of the circle:\"))\n",
    "ca = Pi*r*r\n",
    "print(f\"Area of the circle with radius {r} is : %.2f\" %ca)"
   ]
  },
  {
   "cell_type": "markdown",
   "metadata": {},
   "source": [
    "# Positive, Negative or Zero numbers"
   ]
  },
  {
   "cell_type": "code",
   "execution_count": 20,
   "metadata": {},
   "outputs": [
    {
     "name": "stdout",
     "output_type": "stream",
     "text": [
      "Enter Number :\t-1\n",
      "NEGITIVE NUMBER ENTER.\n"
     ]
    }
   ],
   "source": [
    "num = int(input(\"Enter Number :\\t\"))\n",
    "if num > 0:\n",
    "    print(\"POSITIVE NUMBER ENTER.\")\n",
    "elif num == 0:\n",
    "    print(\"ZERO NUMBER ENTER.\")\n",
    "else:\n",
    "    print(\"NEGITIVE NUMBER ENTER.\")"
   ]
  },
  {
   "cell_type": "code",
   "execution_count": 21,
   "metadata": {},
   "outputs": [
    {
     "name": "stdout",
     "output_type": "stream",
     "text": [
      "Enter Number :\t0\n",
      "ZERO NUMBER ENTER.\n"
     ]
    }
   ],
   "source": [
    "num = int(input(\"Enter Number :\\t\"))\n",
    "if num > 0:\n",
    "    print(\"POSITIVE NUMBER ENTER.\")\n",
    "elif num == 0:\n",
    "    print(\"ZERO NUMBER ENTER.\")\n",
    "else:\n",
    "    print(\"NEGITIVE NUMBER ENTER.\")"
   ]
  },
  {
   "cell_type": "code",
   "execution_count": 22,
   "metadata": {},
   "outputs": [
    {
     "name": "stdout",
     "output_type": "stream",
     "text": [
      "Enter Number :\t3\n",
      "POSITIVE NUMBER ENTER.\n"
     ]
    }
   ],
   "source": [
    "num = int(input(\"Enter Number :\\t\"))\n",
    "if num > 0:\n",
    "    print(\"POSITIVE NUMBER ENTER.\")\n",
    "elif num == 0:\n",
    "    print(\"ZERO NUMBER ENTER.\")\n",
    "else:\n",
    "    print(\"NEGITIVE NUMBER ENTER.\")"
   ]
  },
  {
   "cell_type": "markdown",
   "metadata": {},
   "source": [
    "# Divisibility Check of two numbers"
   ]
  },
  {
   "cell_type": "code",
   "execution_count": 26,
   "metadata": {},
   "outputs": [
    {
     "name": "stdout",
     "output_type": "stream",
     "text": [
      "Enter the Numerator:\t4\n",
      "Enter the Denominator:\t2\n",
      "Number 4  is Completly Divisible by 2\n"
     ]
    }
   ],
   "source": [
    "num=int(input(\"Enter the Numerator:\\t\"))\n",
    "num2=int(input(\"Enter the Denominator:\\t\"))\n",
    "if num%num2 == 0:\n",
    "    print(\"Number\",num,\" is Completly Divisible by\",num2)\n",
    "else:\n",
    "    print(\"Number\",num,\" is not Completly Divisible by\",num2)"
   ]
  },
  {
   "cell_type": "code",
   "execution_count": 27,
   "metadata": {},
   "outputs": [
    {
     "name": "stdout",
     "output_type": "stream",
     "text": [
      "Enter the Numerator:\t7\n",
      "Enter the Denominator:\t4\n",
      "Number 7  is not Completly Divisible by 4\n"
     ]
    }
   ],
   "source": [
    "num=int(input(\"Enter the Numerator:\\t\"))\n",
    "num2=int(input(\"Enter the Denominator:\\t\"))\n",
    "if num%num2 == 0:\n",
    "    print(\"Number\",num,\" is Completly Divisible by\",num2)\n",
    "else:\n",
    "    print(\"Number\",num,\" is not Completly Divisible by\",num2)"
   ]
  },
  {
   "cell_type": "markdown",
   "metadata": {},
   "source": [
    "# DAYS Calculator"
   ]
  },
  {
   "cell_type": "code",
   "execution_count": 32,
   "metadata": {},
   "outputs": [
    {
     "name": "stdout",
     "output_type": "stream",
     "text": [
      "Enter First Date In Format dd/mm/yyyy: 12/12/2018\n",
      "Enter Second Date In Format dd/mm/yyyy: 16/12/2018\n",
      "There are 4  Days Between  12/12/2018  And  16/12/2018\n"
     ]
    }
   ],
   "source": [
    "import datetime\n",
    "date1 = datetime.datetime.strptime(input('Enter First Date In Format dd/mm/yyyy: '), '%d/%m/%Y')\n",
    "date2 = datetime.datetime.strptime(input('Enter Second Date In Format dd/mm/yyyy: '), '%d/%m/%Y')\n",
    "res = date2 - date1\n",
    "print(\"There are\",res.days,\" Days Between \",date1.strftime('%d/%m/%Y'),\" And \",date2.strftime('%d/%m/%Y'))"
   ]
  },
  {
   "cell_type": "markdown",
   "metadata": {},
   "source": [
    "# Volume Of A Sphere"
   ]
  },
  {
   "cell_type": "code",
   "execution_count": 14,
   "metadata": {},
   "outputs": [
    {
     "name": "stdout",
     "output_type": "stream",
     "text": [
      "Enter the radius of the sphere:\t23.76\n",
      "The volume of the sphere with radius 23.76 is : 56185.97\n"
     ]
    }
   ],
   "source": [
    "pi = 3.1415926535897931\n",
    "r = float(input(\"Enter the radius of the sphere:\\t\"))\n",
    "V= 4.0/3.0*pi* r**3\n",
    "print(f\"The volume of the sphere with radius {r} is : %.2f\" %V)"
   ]
  },
  {
   "cell_type": "markdown",
   "metadata": {},
   "source": [
    "# Copy string n times"
   ]
  },
  {
   "cell_type": "code",
   "execution_count": 33,
   "metadata": {},
   "outputs": [
    {
     "name": "stdout",
     "output_type": "stream",
     "text": [
      "Enter String:Hi\n",
      "How many copies of String you need:4\n",
      "4 copies of Hi are  HiHiHiHi\n"
     ]
    }
   ],
   "source": [
    "string= str(input(\"Enter String:\"))\n",
    "copies = int(input(\"How many copies of String you need:\"))\n",
    "x=string*copies\n",
    "print(f\"{copies} copies of {string} are \",x)"
   ]
  },
  {
   "cell_type": "markdown",
   "metadata": {},
   "source": [
    "# Even or Odd Number check"
   ]
  },
  {
   "cell_type": "code",
   "execution_count": 34,
   "metadata": {},
   "outputs": [
    {
     "name": "stdout",
     "output_type": "stream",
     "text": [
      "Enter Number:4\n",
      "4 is Even Number\n"
     ]
    }
   ],
   "source": [
    "digit = int(input(\"Enter Number:\"))\n",
    "if digit % 2==0:\n",
    "    print(f\"{digit} is Even Number\")\n",
    "else:\n",
    "    print(f\"{digit} is Odd Number\")"
   ]
  },
  {
   "cell_type": "code",
   "execution_count": 35,
   "metadata": {},
   "outputs": [
    {
     "name": "stdout",
     "output_type": "stream",
     "text": [
      "Enter Number:9\n",
      "9 is Odd Number\n"
     ]
    }
   ],
   "source": [
    "digit = int(input(\"Enter Number:\"))\n",
    "if digit % 2==0:\n",
    "    print(f\"{digit} is Even Number\")\n",
    "else:\n",
    "    print(f\"{digit} is Odd Number\")"
   ]
  },
  {
   "cell_type": "markdown",
   "metadata": {},
   "source": [
    "# Vowel Tester"
   ]
  },
  {
   "cell_type": "code",
   "execution_count": 37,
   "metadata": {},
   "outputs": [
    {
     "name": "stdout",
     "output_type": "stream",
     "text": [
      "Enter a letter of the alphabet: A\n",
      "Letter A is a vowel.\n"
     ]
    }
   ],
   "source": [
    "var = input(\"Enter a letter of the alphabet: \")\n",
    "\n",
    "if var in ('A', 'E', 'I', 'O', 'U','a','e','i','o','u'):\n",
    "    print(f\"Letter {var} is a vowel.\")\n",
    "else:\n",
    "    print(f\"Letter {var} is a consonant.\")"
   ]
  },
  {
   "cell_type": "code",
   "execution_count": 38,
   "metadata": {},
   "outputs": [
    {
     "name": "stdout",
     "output_type": "stream",
     "text": [
      "Enter a letter of the alphabet: e\n",
      "Letter e is a vowel.\n"
     ]
    }
   ],
   "source": [
    "var = input(\"Enter a letter of the alphabet: \")\n",
    "\n",
    "if var in ('A', 'E', 'I', 'O', 'U','a','e','i','o','u'):\n",
    "    print(f\"Letter {var} is a vowel.\")\n",
    "else:\n",
    "    print(f\"Letter {var} is a consonant.\")"
   ]
  },
  {
   "cell_type": "markdown",
   "metadata": {},
   "source": [
    "# Triangle area"
   ]
  },
  {
   "cell_type": "code",
   "execution_count": 20,
   "metadata": {},
   "outputs": [
    {
     "name": "stdout",
     "output_type": "stream",
     "text": [
      "Enter Magnitude of Triangle base : 6\n",
      "Enter Magnitude of Triangle height : 4\n",
      "Area of a Triangle with Base 6 and Height 4 is  12.0\n"
     ]
    }
   ],
   "source": [
    "base = int(input(\"Enter Magnitude of Triangle base : \"))\n",
    "height = int(input(\"Enter Magnitude of Triangle height : \"))\n",
    "\n",
    "var = base*height/2\n",
    "\n",
    "print(f\"Area of a Triangle with Base {base} and Height {height} is \", var)"
   ]
  },
  {
   "cell_type": "markdown",
   "metadata": {},
   "source": [
    "# Calculate Interest"
   ]
  },
  {
   "cell_type": "code",
   "execution_count": 21,
   "metadata": {},
   "outputs": [
    {
     "name": "stdout",
     "output_type": "stream",
     "text": [
      "Please enter principal amount:273699\n",
      "Please Enter Rate of interest in %:10\n",
      "Enter number of years for investment:88\n",
      "After 88.0 years your principal amount 273699.0 over an interest rate of 10.0 % will be: 1201792542.016753\n"
     ]
    }
   ],
   "source": [
    "amount = float(input(\"Please enter principal amount:\"))\n",
    "int = float(input(\"Please Enter Rate of interest in %:\"))\n",
    "years = float(input(\"Enter number of years for investment:\"))\n",
    "\n",
    "interest_value = amount*((1+(0.01*int)) ** years)\n",
    "print(f\"After {years} years your principal amount {amount} over an interest rate of {int} % will be:\",interest_value)"
   ]
  },
  {
   "cell_type": "markdown",
   "metadata": {},
   "source": [
    "# Euclidean distance"
   ]
  },
  {
   "cell_type": "code",
   "execution_count": 4,
   "metadata": {},
   "outputs": [
    {
     "name": "stdout",
     "output_type": "stream",
     "text": [
      "Enter Co-ordinate for x1:2\n",
      "Enter Co-ordinate for x2:2\n",
      "Enter Co-ordinate for y1:4\n",
      "Enter Co-ordinate for y2:4\n",
      "Distance between points ( 2.0 , 2.0 ) and ( 4.0 , 4.0 ) is: 2.8284271247461903\n"
     ]
    }
   ],
   "source": [
    "from scipy.spatial import distance\n",
    "x1 = float(input(\"Enter Co-ordinate for x1:\"))\n",
    "x2 = float(input(\"Enter Co-ordinate for x2:\"))\n",
    "y1 = float(input(\"Enter Co-ordinate for y1:\"))\n",
    "y2 = float(input(\"Enter Co-ordinate for y2:\"))\n",
    "x = (x1,x2)\n",
    "y = (y1,y2)\n",
    "res = distance.euclidean(x,y)\n",
    "print(\"Distance between points (\",x1,\",\",x2,\") and (\",y1,\",\",y2,\") is:\",res)"
   ]
  },
  {
   "cell_type": "markdown",
   "metadata": {},
   "source": [
    "# Feet Convert To Centimeter"
   ]
  },
  {
   "cell_type": "code",
   "execution_count": 7,
   "metadata": {},
   "outputs": [
    {
     "name": "stdout",
     "output_type": "stream",
     "text": [
      "Enter Height In Feet12\n",
      "The Area of  12.0 feet in centimeter is 365.76 cm\n"
     ]
    }
   ],
   "source": [
    "var = float(input(\"Enter Height In Feet\"))\n",
    "result = 30.48*var\n",
    "print(\"The Area of \",var, \"feet in centimeter is\",result,\"cm\")"
   ]
  },
  {
   "cell_type": "markdown",
   "metadata": {},
   "source": [
    "# BMI CALCULATOR"
   ]
  },
  {
   "cell_type": "code",
   "execution_count": 8,
   "metadata": {},
   "outputs": [
    {
     "name": "stdout",
     "output_type": "stream",
     "text": [
      "Enter Height in CM:65\n",
      "Enter Weight in KG:32\n",
      "Your BMI is 75.74\n"
     ]
    }
   ],
   "source": [
    "h = float(input(\"Enter Height in CM:\"))\n",
    "w = float(input(\"Enter Weight in KG:\"))\n",
    "res = w / (h / 100) ** 2\n",
    "print(\"Your BMI is\",round(res,2))"
   ]
  },
  {
   "cell_type": "markdown",
   "metadata": {},
   "source": [
    "# Sum of n Positive Integers"
   ]
  },
  {
   "cell_type": "code",
   "execution_count": 9,
   "metadata": {},
   "outputs": [
    {
     "name": "stdout",
     "output_type": "stream",
     "text": [
      "Enter Value Of n: 34\n",
      "Sum Of n Positive Integers Till 34 Is 561\n"
     ]
    }
   ],
   "source": [
    "a = int(input(\"Enter Value Of n: \"))\n",
    "b = 0\n",
    "for c in range(1,a,1):\n",
    "    b = b+c\n",
    "    \n",
    "print(\"Sum Of n Positive Integers Till\",a,\"Is\",b)"
   ]
  },
  {
   "cell_type": "markdown",
   "metadata": {},
   "source": [
    "# Digits Sum of a Number"
   ]
  },
  {
   "cell_type": "code",
   "execution_count": 11,
   "metadata": {},
   "outputs": [
    {
     "name": "stdout",
     "output_type": "stream",
     "text": [
      "Enter Number56\n",
      "Digital Sum of  56 is 11\n"
     ]
    }
   ],
   "source": [
    "num = int(input(\"Enter Number\"))\n",
    "res = 0\n",
    "n = str(num)\n",
    "for n2 in n:\n",
    "    res += int(n2)\n",
    "print(\"Digital Sum of \",num , \"is\",res )"
   ]
  },
  {
   "cell_type": "markdown",
   "metadata": {},
   "source": [
    "# Decimal to Binary Converter"
   ]
  },
  {
   "cell_type": "code",
   "execution_count": 12,
   "metadata": {},
   "outputs": [
    {
     "name": "stdout",
     "output_type": "stream",
     "text": [
      "Enter decimal number: 43\n",
      "Binary Representation of 43 is  0b101011\n"
     ]
    }
   ],
   "source": [
    "n=int(input('Enter decimal number: '))\n",
    "print(f\"Binary Representation of {n} is \",bin(n))"
   ]
  },
  {
   "cell_type": "code",
   "execution_count": 14,
   "metadata": {},
   "outputs": [
    {
     "name": "stdout",
     "output_type": "stream",
     "text": [
      "Enter decimal number: 7\n",
      "The binary no. for 7 is 0111\n"
     ]
    }
   ],
   "source": [
    "n=int(input('Enter decimal number: '))\n",
    "x=n\n",
    "k=[]\n",
    "while (n>0):\n",
    "    a=int(float(n%2))\n",
    "    k.append(a)\n",
    "    n=(n-a)/2\n",
    "k.append(0)\n",
    "string=\"\"\n",
    "for j in k[::-1]:\n",
    "    string=string+str(j)\n",
    "print('The binary no. for %d is %s'%(x, string))"
   ]
  },
  {
   "cell_type": "code",
   "execution_count": 16,
   "metadata": {},
   "outputs": [
    {
     "name": "stdout",
     "output_type": "stream",
     "text": [
      "Enter decimal number: 43\n",
      "The binary no. for 43 is 0101011\n"
     ]
    }
   ],
   "source": [
    "n=int(input('Enter decimal number: '))\n",
    "x=n\n",
    "k=[]\n",
    "while (n>0):\n",
    "    a=int(float(n%2))\n",
    "    k.append(a)\n",
    "    n=(n-a)/2\n",
    "k.append(0)\n",
    "string=\"\"\n",
    "for j in k[::-1]:\n",
    "    string=string+str(j)\n",
    "print('The binary no. for %d is %s'%(x, string))"
   ]
  },
  {
   "cell_type": "markdown",
   "metadata": {},
   "source": [
    "# Binary to Decimal Converter"
   ]
  },
  {
   "cell_type": "code",
   "execution_count": 1,
   "metadata": {},
   "outputs": [
    {
     "name": "stdout",
     "output_type": "stream",
     "text": [
      "Enter a Binary number: 1101\n",
      "Decimal digit is 13\n"
     ]
    }
   ],
   "source": [
    "num = list(input(\"Enter a Binary number: \"))\n",
    "value = 0\n",
    "\n",
    "for i in range(len(num)):\n",
    "    digit = num.pop()\n",
    "    if digit == '1':\n",
    "        value = value + pow(2, i)\n",
    "print(f\"Decimal digit is\", value)"
   ]
  },
  {
   "cell_type": "code",
   "execution_count": 2,
   "metadata": {},
   "outputs": [
    {
     "name": "stdout",
     "output_type": "stream",
     "text": [
      "Enter a Binary number: 1001\n",
      "Decimal digit is 9\n"
     ]
    }
   ],
   "source": [
    "num = list(input(\"Enter a Binary number: \"))\n",
    "value = 0\n",
    "\n",
    "for i in range(len(num)):\n",
    "    digit = num.pop()\n",
    "    if digit == '1':\n",
    "        value = value + pow(2, i)\n",
    "print(f\"Decimal digit is\", value)"
   ]
  },
  {
   "cell_type": "markdown",
   "metadata": {},
   "source": [
    "# Vowel and Consonants Counter"
   ]
  },
  {
   "cell_type": "code",
   "execution_count": 5,
   "metadata": {},
   "outputs": [
    {
     "name": "stdout",
     "output_type": "stream",
     "text": [
      "Enter text : QuickBrownFoxJumpsovertheDog\n",
      "Vowels  9\n",
      "Consonants 19\n"
     ]
    }
   ],
   "source": [
    "var = input(\"Enter text : \")\n",
    "vowels = 0\n",
    "consonants = 0\n",
    "\n",
    "for i in var:\n",
    "    if(i == 'a' or i == 'e' or i == 'i' or i == 'o' or i == 'u'\n",
    "       or i == 'A' or i == 'E' or i == 'I' or i == 'O' or i == 'U'):\n",
    "        vowels = vowels + 1\n",
    "    else:\n",
    "        consonants = consonants + 1\n",
    "print(\"Vowels \", vowels)\n",
    "print(\"Consonants\", consonants)"
   ]
  },
  {
   "cell_type": "markdown",
   "metadata": {},
   "source": [
    "# Palindrome Tester"
   ]
  },
  {
   "cell_type": "code",
   "execution_count": 8,
   "metadata": {},
   "outputs": [
    {
     "name": "stdout",
     "output_type": "stream",
     "text": [
      "Enter String:AHA\n",
      "Text aha is palindrome\n"
     ]
    }
   ],
   "source": [
    "var = str(input(\"Enter String:\"))\n",
    "var = var.casefold()\n",
    "\n",
    "var1 = reversed(var)\n",
    "\n",
    "if list(var) == list(var1):\n",
    "    print(\"Text\", var ,\"is palindrome\" )\n",
    "else:\n",
    "    print(\"Text\", var , \"is not palindrome\")"
   ]
  },
  {
   "cell_type": "code",
   "execution_count": 9,
   "metadata": {},
   "outputs": [
    {
     "name": "stdout",
     "output_type": "stream",
     "text": [
      "Enter String:Hello\n",
      "Text hello is not palindrome\n"
     ]
    }
   ],
   "source": [
    "var = str(input(\"Enter String:\"))\n",
    "var = var.casefold()\n",
    "\n",
    "var1 = reversed(var)\n",
    "\n",
    "if list(var) == list(var1):\n",
    "    print(\"Text\", var ,\"is palindrome\" )\n",
    "else:\n",
    "    print(\"Text\", var , \"is not palindrome\")"
   ]
  },
  {
   "cell_type": "markdown",
   "metadata": {},
   "source": [
    "# Count Alphabets, Numbers and Special Characters"
   ]
  },
  {
   "cell_type": "code",
   "execution_count": 14,
   "metadata": {},
   "outputs": [
    {
     "name": "stdout",
     "output_type": "stream",
     "text": [
      "Enter String: python 3.2\n",
      "Numbers :   2\n",
      "\n",
      "Alphabets :   6\n",
      "Special Characters :  1\n",
      "Spaces : 1\n"
     ]
    }
   ],
   "source": [
    "string = input(\"Enter String: \")\n",
    "d=a=s=sp=0\n",
    "for i in string:\n",
    "    if i.isdigit():\n",
    "        d=d+1\n",
    "    elif i.isalpha():\n",
    "        a=a+1\n",
    "    elif i.isspace():\n",
    "        sp=sp+1\n",
    "    else:\n",
    "        s=s+1\n",
    "print(\"Numbers :  \", d)\n",
    "print(\"\\nAlphabets :  \", a)\n",
    "print(\"Special Characters : \", s)\n",
    "print(\"Spaces :\", sp)"
   ]
  },
  {
   "cell_type": "markdown",
   "metadata": {},
   "source": [
    "# Write a Python program to construct Star pattern."
   ]
  },
  {
   "cell_type": "code",
   "execution_count": 15,
   "metadata": {},
   "outputs": [
    {
     "name": "stdout",
     "output_type": "stream",
     "text": [
      "*\n",
      "**\n",
      "***\n",
      "****\n",
      "*****\n",
      "****\n",
      "***\n",
      "**\n",
      "*\n"
     ]
    }
   ],
   "source": [
    "num = 1 \n",
    "while num < 6 :\n",
    "    print(\"*\"*num)\n",
    "    num += 1\n",
    "num = 4\n",
    "while num > 0 :\n",
    "    print(\"*\"*num)\n",
    "    num -= 1"
   ]
  },
  {
   "cell_type": "markdown",
   "metadata": {},
   "source": [
    "# Write a Python program to construct number pattern"
   ]
  },
  {
   "cell_type": "code",
   "execution_count": 16,
   "metadata": {},
   "outputs": [
    {
     "name": "stdout",
     "output_type": "stream",
     "text": [
      "1 \n",
      "\n",
      "1 2 \n",
      "\n",
      "1 2 3 \n",
      "\n",
      "1 2 3 4 \n",
      "\n",
      "1 2 3 4 5 \n",
      "\n",
      "1 2 3 4 \n",
      "\n",
      "1 2 3 \n",
      "\n",
      "1 2 \n",
      "\n",
      "1 \n",
      "\n"
     ]
    }
   ],
   "source": [
    "for a in range(1,6):\n",
    "    for b in range(1,a+1):\n",
    "        print(b,end=\" \")\n",
    "    print(\"\\n\")\n",
    "for a in range(5,1,-1):\n",
    "    for b in range(a,1,-1):\n",
    "        print((a+1)-b,end=\" \")\n",
    "    print(\"\\n\")"
   ]
  },
  {
   "cell_type": "markdown",
   "metadata": {},
   "source": [
    "# Write a Python program to construct number pattern"
   ]
  },
  {
   "cell_type": "code",
   "execution_count": 18,
   "metadata": {},
   "outputs": [
    {
     "name": "stdout",
     "output_type": "stream",
     "text": [
      "\n",
      "\n",
      "1 \n",
      "\n",
      "2 2 \n",
      "\n",
      "3 3 3 \n",
      "\n",
      "4 4 4 4 \n",
      "\n",
      "5 5 5 5 5 \n",
      "\n",
      "6 6 6 6 6 6 \n",
      "\n",
      "7 7 7 7 7 7 7 \n",
      "\n",
      "8 8 8 8 8 8 8 8 \n",
      "\n",
      "9 9 9 9 9 9 9 9 9 \n",
      "\n"
     ]
    }
   ],
   "source": [
    "for a in range(10):\n",
    "    for b in range(a):\n",
    "        print(a,end=\" \")\n",
    "    print(\"\\n\")"
   ]
  }
 ],
 "metadata": {
  "kernelspec": {
   "display_name": "Python 3",
   "language": "python",
   "name": "python3"
  },
  "language_info": {
   "codemirror_mode": {
    "name": "ipython",
    "version": 3
   },
   "file_extension": ".py",
   "mimetype": "text/x-python",
   "name": "python",
   "nbconvert_exporter": "python",
   "pygments_lexer": "ipython3",
   "version": "3.7.3"
  }
 },
 "nbformat": 4,
 "nbformat_minor": 2
}
